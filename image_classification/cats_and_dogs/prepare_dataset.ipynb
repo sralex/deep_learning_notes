{
 "cells": [
  {
   "cell_type": "code",
   "execution_count": 4,
   "id": "32995f36",
   "metadata": {},
   "outputs": [
    {
     "name": "stdout",
     "output_type": "stream",
     "text": [
      "Archive:  dogs-vs-cats-redux-kernels-edition.zip\n",
      "  inflating: sample_submission.csv   \n",
      "  inflating: test.zip                \n",
      "  inflating: train.zip               \n"
     ]
    }
   ],
   "source": [
    "!unzip dogs-vs-cats-redux-kernels-edition.zip "
   ]
  },
  {
   "cell_type": "code",
   "execution_count": 10,
   "id": "a124cf08",
   "metadata": {},
   "outputs": [],
   "source": [
    "!unzip -q train.zip -d dataset\n",
    "!unzip -q test.zip -d dataset"
   ]
  },
  {
   "cell_type": "code",
   "execution_count": 11,
   "id": "356c9fd9",
   "metadata": {},
   "outputs": [],
   "source": [
    "from glob import glob\n",
    "import re\n",
    "import shutil\n",
    "import os"
   ]
  },
  {
   "cell_type": "code",
   "execution_count": 12,
   "id": "8e7c14f1",
   "metadata": {},
   "outputs": [],
   "source": [
    "dataset = glob(\"dataset/train/*.jpg\", recursive = True)\n",
    "dataset = [(path,re.sub(r'^(.*)\\.(?=[^.]*\\.[^.]*$)', r'\\1/', path)) for path in dataset]\n",
    "\n",
    "def move_files(file_pairs):\n",
    "    for source, destination in file_pairs:\n",
    "        destination_dir = os.path.dirname(destination)\n",
    "        if not os.path.exists(destination_dir):\n",
    "            os.makedirs(destination_dir)\n",
    "        shutil.move(source, destination)\n",
    "        #print(f\"Archivo '{source}' movido a '{destination}'.\")"
   ]
  },
  {
   "cell_type": "code",
   "execution_count": 13,
   "id": "a2b22bd0-555a-40ac-a824-4c03488ae9a8",
   "metadata": {},
   "outputs": [],
   "source": [
    "move_files(dataset)"
   ]
  },
  {
   "cell_type": "code",
   "execution_count": null,
   "id": "df828e35-de54-421a-8334-5670e899d33a",
   "metadata": {},
   "outputs": [],
   "source": []
  }
 ],
 "metadata": {
  "kernelspec": {
   "display_name": "Python 3 (ipykernel)",
   "language": "python",
   "name": "python3"
  },
  "language_info": {
   "codemirror_mode": {
    "name": "ipython",
    "version": 3
   },
   "file_extension": ".py",
   "mimetype": "text/x-python",
   "name": "python",
   "nbconvert_exporter": "python",
   "pygments_lexer": "ipython3",
   "version": "3.8.19"
  }
 },
 "nbformat": 4,
 "nbformat_minor": 5
}
