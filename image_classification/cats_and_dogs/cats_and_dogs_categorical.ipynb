{
 "cells": [
  {
   "cell_type": "code",
   "execution_count": null,
   "metadata": {},
   "outputs": [],
   "source": [
    "import os\n",
    "os.environ['CUDA_VISIBLE_DEVICES'] = '1'  # O '0,1' para usar múltiples GPUs\n",
    "import tensorflow as tf\n",
    "tf.test.gpu_device_name()"
   ]
  },
  {
   "cell_type": "code",
   "execution_count": 2,
   "metadata": {},
   "outputs": [],
   "source": [
    "from PIL import Image\n",
    "import numpy as np\n",
    "from tensorflow.keras.utils import Sequence\n",
    "from glob import glob"
   ]
  },
  {
   "cell_type": "code",
   "execution_count": 3,
   "metadata": {},
   "outputs": [
    {
     "data": {
      "text/plain": [
       "['test']"
      ]
     },
     "execution_count": 3,
     "metadata": {},
     "output_type": "execute_result"
    }
   ],
   "source": [
    "dataset = glob(\"dataset/*/*.jpg\", recursive = True)\n",
    "classes = list(set([k.split(\"/\")[1] for k in dataset]))\n",
    "classes"
   ]
  },
  {
   "cell_type": "code",
   "execution_count": 4,
   "metadata": {},
   "outputs": [],
   "source": [
    "def encoder_class(classes, clasz):\n",
    "    index = classes.index(clasz)\n",
    "    result = np.zeros(len(classes))\n",
    "    result[index] = 1\n",
    "    return result"
   ]
  },
  {
   "cell_type": "code",
   "execution_count": 5,
   "metadata": {},
   "outputs": [],
   "source": [
    "class Mygenerator(Sequence):\n",
    "    def __init__(self, data, batch_size, readers, training = False):\n",
    "        self.data = data\n",
    "        self.batch_size = batch_size\n",
    "        self.readers = readers\n",
    "        self.training = training\n",
    "    def __len__(self):\n",
    "        return int(np.ceil(len(self.data)/float(self.batch_size)))\n",
    "    \n",
    "    def __getitem__(self,idx):\n",
    "        batch = self.data[ idx * self.batch_size: (idx + 1) * self.batch_size]\n",
    "\n",
    "        x = []\n",
    "        y = []\n",
    "\n",
    "        for filename in batch:\n",
    "            x_, y_ = self.readers(filename,self.training)\n",
    "            x.append(x_)\n",
    "            y.append(y_)\n",
    "        return np.array(x), np.array(y)"
   ]
  },
  {
   "cell_type": "code",
   "execution_count": 6,
   "metadata": {},
   "outputs": [],
   "source": [
    "def wrapper_read_x_y(classes):\n",
    "    def read_x_y(filename, training = False):\n",
    "        img = Image.open(filename).convert(\"RGB\")\n",
    "        img2 = img.resize((224,224))\n",
    "        \n",
    "        label = encoder_class(classes,filename.split(\"/\")[1])\n",
    "\n",
    "        if not training:\n",
    "            return np.array(img2) / 255, label\n",
    "\n",
    "        width, height = img2.size\n",
    "        x_range, y_range = int(width * 0.3), int(height * 0.3)\n",
    "        random_x = np.random.randint(0,x_range)\n",
    "        random_y = np.random.randint(0,y_range)\n",
    "\n",
    "        img3 = img2.crop((random_x, random_y, width - x_range, height - y_range)).resize((224,224))\n",
    "        angle = np.random.randint(-5,5)\n",
    "        img4 = img3.rotate(angle)\n",
    "\n",
    "        return np.array(img4) / 255, label\n",
    "    return read_x_y"
   ]
  },
  {
   "cell_type": "code",
   "execution_count": 7,
   "metadata": {},
   "outputs": [],
   "source": [
    "np.random.shuffle(dataset)"
   ]
  },
  {
   "cell_type": "code",
   "execution_count": 8,
   "metadata": {},
   "outputs": [],
   "source": [
    "train = dataset[0:int(len(dataset)* .8)]\n",
    "test = dataset[int(len(dataset)* .8):]"
   ]
  },
  {
   "cell_type": "code",
   "execution_count": 9,
   "metadata": {},
   "outputs": [
    {
     "name": "stdout",
     "output_type": "stream",
     "text": [
      "10000\n",
      "2500\n"
     ]
    }
   ],
   "source": [
    "print(len(train))\n",
    "print(len(test))"
   ]
  },
  {
   "cell_type": "code",
   "execution_count": 10,
   "metadata": {},
   "outputs": [],
   "source": [
    "batch_size= 100\n",
    "training_generator = Mygenerator(train,batch_size,wrapper_read_x_y(classes),training = True)\n",
    "test_generator = Mygenerator(test,batch_size,wrapper_read_x_y(classes), training=False)"
   ]
  },
  {
   "cell_type": "code",
   "execution_count": null,
   "metadata": {},
   "outputs": [],
   "source": [
    "IMG_SHAPE = (224, 224, 3)\n",
    "base_model = tf.keras.applications.mobilenet.MobileNet(input_shape=IMG_SHAPE,\n",
    "                                               include_top=False,\n",
    "                                               weights='imagenet')"
   ]
  },
  {
   "cell_type": "code",
   "execution_count": 12,
   "metadata": {},
   "outputs": [],
   "source": [
    "global_average_layer = tf.keras.layers.GlobalAveragePooling2D()\n",
    "prediction_layer = tf.keras.layers.Dense(2, activation='softmax')"
   ]
  },
  {
   "cell_type": "code",
   "execution_count": 13,
   "metadata": {},
   "outputs": [],
   "source": [
    "model = tf.keras.Sequential([\n",
    "  base_model,\n",
    "  global_average_layer,\n",
    "  prediction_layer\n",
    "])\n"
   ]
  },
  {
   "cell_type": "code",
   "execution_count": 14,
   "metadata": {},
   "outputs": [],
   "source": [
    "opt = tf.keras.optimizers.SGD(learning_rate=0.001, momentum=0.9)\n",
    "model.compile(optimizer=opt, loss='categorical_crossentropy', metrics=['accuracy'])"
   ]
  },
  {
   "cell_type": "code",
   "execution_count": null,
   "metadata": {},
   "outputs": [],
   "source": [
    "model.fit(training_generator,validation_data=test_generator,batch_size=batch_size, epochs=1)\n"
   ]
  },
  {
   "cell_type": "code",
   "execution_count": 16,
   "metadata": {},
   "outputs": [
    {
     "name": "stdout",
     "output_type": "stream",
     "text": [
      "25/25 - 9s - loss: 1.5471 - accuracy: 0.0332 - 9s/epoch - 365ms/step\n"
     ]
    },
    {
     "data": {
      "text/plain": [
       "[1.5471210479736328, 0.03319999948143959]"
      ]
     },
     "execution_count": 16,
     "metadata": {},
     "output_type": "execute_result"
    }
   ],
   "source": [
    "model.evaluate(test_generator, verbose=2)"
   ]
  },
  {
   "cell_type": "code",
   "execution_count": null,
   "metadata": {},
   "outputs": [],
   "source": []
  }
 ],
 "metadata": {
  "kernelspec": {
   "display_name": "Python 3 (ipykernel)",
   "language": "python",
   "name": "python3"
  },
  "language_info": {
   "codemirror_mode": {
    "name": "ipython",
    "version": 3
   },
   "file_extension": ".py",
   "mimetype": "text/x-python",
   "name": "python",
   "nbconvert_exporter": "python",
   "pygments_lexer": "ipython3",
   "version": "3.8.19"
  }
 },
 "nbformat": 4,
 "nbformat_minor": 4
}
