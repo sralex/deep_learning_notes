{
 "cells": [
  {
   "cell_type": "code",
   "execution_count": 1,
   "metadata": {},
   "outputs": [],
   "source": [
    "import numpy as np\n",
    "from tensorflow import keras\n",
    "from tensorflow.keras import layers"
   ]
  },
  {
   "cell_type": "code",
   "execution_count": 2,
   "metadata": {},
   "outputs": [],
   "source": [
    "from tensorflow.keras import backend as K"
   ]
  },
  {
   "cell_type": "code",
   "execution_count": 3,
   "metadata": {},
   "outputs": [],
   "source": [
    "def custom_loss_function(margin = 5.0):\n",
    "    def wrapper(y_true, y_pred):\n",
    "        eucd = y_pred \n",
    "        labels_t = y_true\n",
    "        labels_f = 1 - y_true\n",
    "        # pos = tf.multiply(labels_t, eucd, name=\"y_x_eucd\")\n",
    "        pos = labels_t * eucd\n",
    "        #neg = tf.multiply(labels_f, tf.maximum(0.0, tf.subtract(C, eucd)), name=\"Ny_C-eucd\")\n",
    "        neg = labels_f * K.maximum(0.0,margin - eucd)\n",
    "        losses = pos + neg\n",
    "        return K.mean(losses)\n",
    "    return wrapper"
   ]
  },
  {
   "cell_type": "code",
   "execution_count": 122,
   "metadata": {},
   "outputs": [],
   "source": [
    "def net():\n",
    "    model = keras.Sequential()\n",
    "    model.add(layers.Dense(1024,activation=\"relu\"))\n",
    "    model.add(layers.Dense(1024,activation=\"relu\"))\n",
    "    model.add(layers.Dense(2,activation=None))\n",
    "    model.add(layers.Reshape((2,1)))\n",
    "    return model\n",
    "\n",
    "left_input = keras.Input(shape=(28*28,))\n",
    "right_input = keras.Input(shape=(28*28,))\n",
    "\n",
    "\n",
    "\n",
    "encoder_l = net()(left_input)\n",
    "encoder_r = net()(right_input)\n",
    "\n",
    "## last part\n",
    "\n",
    "L1_layer =  layers.Lambda(lambda tensor:K.sqrt(K.sum(K.pow(tensor[0]-tensor[1],2), axis=1)+ 1e-6))\n",
    "#L1_layer =  layers.Lambda(lambda tensor:K.pow(tensor[0]-tensor[1],2))\n",
    "\n",
    "L1_distance = L1_layer([encoder_l,encoder_r])\n",
    "#prediction = layers.Dense(1,activation=\"sigmoid\")(L1_distance)\n",
    "\n",
    "siamese_net = keras.Model(inputs = [left_input,right_input], outputs = L1_distance)"
   ]
  },
  {
   "cell_type": "code",
   "execution_count": 123,
   "metadata": {},
   "outputs": [],
   "source": [
    "encoder_network_left = keras.Model(inputs=left_input,outputs=encoder_l)"
   ]
  },
  {
   "cell_type": "code",
   "execution_count": 151,
   "metadata": {},
   "outputs": [],
   "source": [
    "encoder_network_right = keras.Model(inputs=right_input,outputs=encoder_r)"
   ]
  },
  {
   "cell_type": "code",
   "execution_count": 125,
   "metadata": {},
   "outputs": [
    {
     "name": "stdout",
     "output_type": "stream",
     "text": [
      "Model: \"model_4\"\n",
      "__________________________________________________________________________________________________\n",
      "Layer (type)                    Output Shape         Param #     Connected to                     \n",
      "==================================================================================================\n",
      "input_3 (InputLayer)            [(None, 784)]        0                                            \n",
      "__________________________________________________________________________________________________\n",
      "input_4 (InputLayer)            [(None, 784)]        0                                            \n",
      "__________________________________________________________________________________________________\n",
      "sequential_1 (Sequential)       (None, 2, 1)         1855490     input_3[0][0]                    \n",
      "__________________________________________________________________________________________________\n",
      "sequential_2 (Sequential)       (None, 2, 1)         1855490     input_4[0][0]                    \n",
      "__________________________________________________________________________________________________\n",
      "lambda_1 (Lambda)               (None, 1)            0           sequential_1[0][0]               \n",
      "                                                                 sequential_2[0][0]               \n",
      "==================================================================================================\n",
      "Total params: 3,710,980\n",
      "Trainable params: 3,710,980\n",
      "Non-trainable params: 0\n",
      "__________________________________________________________________________________________________\n"
     ]
    }
   ],
   "source": [
    "siamese_net.summary()"
   ]
  },
  {
   "cell_type": "code",
   "execution_count": 126,
   "metadata": {},
   "outputs": [
    {
     "name": "stdout",
     "output_type": "stream",
     "text": [
      "x_train shape: (60000, 28, 28, 1)\n",
      "60000 train samples\n",
      "10000 test samples\n"
     ]
    }
   ],
   "source": [
    "num_classes = 10\n",
    "input_shape = (28, 28, 1)\n",
    "\n",
    "# the data, split between train and test sets\n",
    "(x_train, y_train), (x_test, y_test) = keras.datasets.mnist.load_data()\n",
    "\n",
    "# Scale images to the [0, 1] range\n",
    "x_train = x_train.astype(\"float32\") / 255\n",
    "x_test = x_test.astype(\"float32\") / 255\n",
    "# Make sure images have shape (28, 28, 1)\n",
    "x_train = np.expand_dims(x_train, -1)\n",
    "x_test = np.expand_dims(x_test, -1)\n",
    "print(\"x_train shape:\", x_train.shape)\n",
    "print(x_train.shape[0], \"train samples\")\n",
    "print(x_test.shape[0], \"test samples\")\n",
    "\n",
    "\n",
    "# convert class vectors to binary class matrices\n",
    "y_train_ = keras.utils.to_categorical(y_train, num_classes)\n",
    "y_test_ = keras.utils.to_categorical(y_test, num_classes)"
   ]
  },
  {
   "cell_type": "code",
   "execution_count": 127,
   "metadata": {},
   "outputs": [],
   "source": [
    "import tensorflow as tf"
   ]
  },
  {
   "cell_type": "code",
   "execution_count": 128,
   "metadata": {},
   "outputs": [],
   "source": [
    "siamese_net.compile(optimizer=tf.keras.optimizers.SGD(),loss=custom_loss_function(5.0))#custom_loss_function(5.0)"
   ]
  },
  {
   "cell_type": "code",
   "execution_count": 129,
   "metadata": {},
   "outputs": [],
   "source": [
    "x_train = x_train.reshape(-1,28*28)"
   ]
  },
  {
   "cell_type": "code",
   "execution_count": 130,
   "metadata": {},
   "outputs": [
    {
     "data": {
      "text/plain": [
       "array([5, 0, 4, ..., 5, 6, 8], dtype=uint8)"
      ]
     },
     "execution_count": 130,
     "metadata": {},
     "output_type": "execute_result"
    }
   ],
   "source": [
    "y_train"
   ]
  },
  {
   "cell_type": "code",
   "execution_count": 131,
   "metadata": {},
   "outputs": [],
   "source": [
    "x_y_train = np.concatenate([x_train,y_train[...,np.newaxis]],axis=1)"
   ]
  },
  {
   "cell_type": "code",
   "execution_count": 132,
   "metadata": {},
   "outputs": [],
   "source": [
    "import pandas as pd"
   ]
  },
  {
   "cell_type": "code",
   "execution_count": 133,
   "metadata": {},
   "outputs": [
    {
     "data": {
      "text/plain": [
       "(60000, 784)"
      ]
     },
     "execution_count": 133,
     "metadata": {},
     "output_type": "execute_result"
    }
   ],
   "source": [
    "x_train.shape"
   ]
  },
  {
   "cell_type": "code",
   "execution_count": 134,
   "metadata": {},
   "outputs": [
    {
     "data": {
      "text/plain": [
       "(60000, 785)"
      ]
     },
     "execution_count": 134,
     "metadata": {},
     "output_type": "execute_result"
    }
   ],
   "source": [
    "x_y_train.shape"
   ]
  },
  {
   "cell_type": "code",
   "execution_count": 135,
   "metadata": {},
   "outputs": [],
   "source": [
    "groups = []\n",
    "for i in range(10):\n",
    "    groups.append(x_y_train[x_y_train[...,-1] == i])"
   ]
  },
  {
   "cell_type": "code",
   "execution_count": 136,
   "metadata": {},
   "outputs": [],
   "source": [
    "# def get_pairs_t(groups):\n",
    "#     pairs = []\n",
    "#     for g in groups:\n",
    "#         v = g[:5000]\n",
    "#         np.random.shuffle(v)\n",
    "#         print(v[:2500][...,:-1].shape)\n",
    "#         r = np.concatenate((v[:2500][...,:-1],v[2500:][...,:-1],np.ones((2500,1))),axis=1)\n",
    "#         pairs.append(r)\n",
    "#     return np.array(pairs).reshape(-1,((28*28) * 2)+1)#1569"
   ]
  },
  {
   "cell_type": "code",
   "execution_count": 157,
   "metadata": {},
   "outputs": [],
   "source": [
    "def get_pairs_t(groups):\n",
    "    pairs = []\n",
    "    for i in range(-1,len(groups)-1):\n",
    "        v = groups[i][:5000]\n",
    "        k = groups[i + 1][:5000]\n",
    "        np.random.shuffle(v)\n",
    "        np.random.shuffle(k)\n",
    "        print(v[:2500][...,:-1].shape)\n",
    "        r = np.concatenate((v[:2500][...,:-1],k[2500:][...,:-1],np.ones((2500,1))),axis=1)\n",
    "        pairs.append(r)\n",
    "    return np.array(pairs).reshape(-1,((28*28) * 2)+1)#1569"
   ]
  },
  {
   "cell_type": "code",
   "execution_count": 158,
   "metadata": {},
   "outputs": [
    {
     "name": "stdout",
     "output_type": "stream",
     "text": [
      "(2500, 784)\n",
      "(2500, 784)\n",
      "(2500, 784)\n",
      "(2500, 784)\n",
      "(2500, 784)\n",
      "(2500, 784)\n",
      "(2500, 784)\n",
      "(2500, 784)\n",
      "(2500, 784)\n",
      "(2500, 784)\n"
     ]
    },
    {
     "data": {
      "text/plain": [
       "(25000, 1569)"
      ]
     },
     "execution_count": 158,
     "metadata": {},
     "output_type": "execute_result"
    }
   ],
   "source": [
    "b = get_pairs_t(groups)\n",
    "b.shape"
   ]
  },
  {
   "cell_type": "code",
   "execution_count": 159,
   "metadata": {},
   "outputs": [],
   "source": [
    "def get_pairs_f(groups):\n",
    "    pairs = []\n",
    "    for i in range(25):\n",
    "        for i in range(len(groups)):\n",
    "            v = groups[i][:5000]\n",
    "            np.random.shuffle(v)\n",
    "            ran = i\n",
    "            while ran == i and ran != i+1:\n",
    "                ran = np.random.randint(10)\n",
    "\n",
    "            v2 = groups[ran][:5000]\n",
    "            np.random.shuffle(v2)\n",
    "\n",
    "\n",
    "            r = np.concatenate((v[:100][...,:-1],v2[:100][...,:-1],np.zeros((100,1))),axis=1)\n",
    "            pairs.append(r)\n",
    "    return np.array(pairs).reshape(-1,((28*28) * 2)+1)#1569"
   ]
  },
  {
   "cell_type": "code",
   "execution_count": 160,
   "metadata": {},
   "outputs": [
    {
     "data": {
      "text/plain": [
       "(25000, 1569)"
      ]
     },
     "execution_count": 160,
     "metadata": {},
     "output_type": "execute_result"
    }
   ],
   "source": [
    "a = get_pairs_f(groups)\n",
    "a.shape"
   ]
  },
  {
   "cell_type": "code",
   "execution_count": 161,
   "metadata": {},
   "outputs": [
    {
     "data": {
      "text/plain": [
       "(50000, 1569)"
      ]
     },
     "execution_count": 161,
     "metadata": {},
     "output_type": "execute_result"
    }
   ],
   "source": [
    "data_ = np.concatenate([a,b])\n",
    "data_.shape"
   ]
  },
  {
   "cell_type": "code",
   "execution_count": 162,
   "metadata": {},
   "outputs": [],
   "source": [
    "np.random.shuffle(data_)"
   ]
  },
  {
   "cell_type": "code",
   "execution_count": 163,
   "metadata": {},
   "outputs": [],
   "source": [
    "X1 , X2, y = data_[:,:(28*28)], data_[:,(28*28):(28*28)*2] , data_[:,-1:]"
   ]
  },
  {
   "cell_type": "code",
   "execution_count": 164,
   "metadata": {},
   "outputs": [
    {
     "data": {
      "text/plain": [
       "array([[1.],\n",
       "       [0.],\n",
       "       [0.],\n",
       "       ...,\n",
       "       [0.],\n",
       "       [1.],\n",
       "       [1.]])"
      ]
     },
     "execution_count": 164,
     "metadata": {},
     "output_type": "execute_result"
    }
   ],
   "source": [
    "y"
   ]
  },
  {
   "cell_type": "code",
   "execution_count": 165,
   "metadata": {
    "scrolled": true
   },
   "outputs": [
    {
     "name": "stdout",
     "output_type": "stream",
     "text": [
      "Epoch 1/10\n",
      "1563/1563 [==============================] - 79s 51ms/step - loss: 1.5485\n",
      "Epoch 2/10\n",
      "1563/1563 [==============================] - 81s 52ms/step - loss: 1.2818\n",
      "Epoch 3/10\n",
      "1563/1563 [==============================] - 79s 51ms/step - loss: 1.1729\n",
      "Epoch 4/10\n",
      "1563/1563 [==============================] - 84s 54ms/step - loss: 1.0959\n",
      "Epoch 5/10\n",
      "1563/1563 [==============================] - 82s 53ms/step - loss: 1.0362\n",
      "Epoch 6/10\n",
      "1563/1563 [==============================] - 83s 53ms/step - loss: 0.9876\n",
      "Epoch 7/10\n",
      "1563/1563 [==============================] - 85s 55ms/step - loss: 0.9397\n",
      "Epoch 8/10\n",
      "1563/1563 [==============================] - 88s 56ms/step - loss: 0.9038\n",
      "Epoch 9/10\n",
      "1563/1563 [==============================] - 87s 56ms/step - loss: 0.8689\n",
      "Epoch 10/10\n",
      "1563/1563 [==============================] - 84s 54ms/step - loss: 0.8391\n"
     ]
    },
    {
     "data": {
      "text/plain": [
       "<tensorflow.python.keras.callbacks.History at 0x7f5f80d7a2e0>"
      ]
     },
     "execution_count": 165,
     "metadata": {},
     "output_type": "execute_result"
    }
   ],
   "source": [
    "siamese_net.fit([X1,X2], y,verbose=1, epochs=10)"
   ]
  },
  {
   "cell_type": "code",
   "execution_count": 166,
   "metadata": {},
   "outputs": [],
   "source": [
    "import matplotlib.pyplot as plt"
   ]
  },
  {
   "cell_type": "code",
   "execution_count": 167,
   "metadata": {},
   "outputs": [],
   "source": [
    "marker = ['o', '.', ',', 'x', '+', 'v', '^', '<', '>', 's', 'd']\n",
    "def plot_pairs(groups,encoder):\n",
    "    for i,g in enumerate(groups):\n",
    "        v = g[:5000]\n",
    "        #np.random.shuffle(v)\n",
    "        xp = v[:200][...,:-1]\n",
    "        y = encoder.predict(xp)\n",
    "        plt.scatter(y[:,0,0],y[:,1,0],marker=marker[i],label=i)\n",
    "    plt.legend(numpoints=1)"
   ]
  },
  {
   "cell_type": "code",
   "execution_count": 168,
   "metadata": {},
   "outputs": [
    {
     "data": {
      "image/png": "[encoded data removed]",
      "text/plain": [
       "<Figure size 432x288 with 1 Axes>"
      ]
     },
     "metadata": {
      "needs_background": "light"
     },
     "output_type": "display_data"
    }
   ],
   "source": [
    "plot_pairs(groups,encoder_network_left)"
   ]
  },
  {
   "cell_type": "code",
   "execution_count": 169,
   "metadata": {},
   "outputs": [
    {
     "data": {
      "image/png": "[encoded data removed]",
      "text/plain": [
       "<Figure size 432x288 with 1 Axes>"
      ]
     },
     "metadata": {
      "needs_background": "light"
     },
     "output_type": "display_data"
    }
   ],
   "source": [
    "plot_pairs(groups,encoder_network_right)"
   ]
  },
  {
   "cell_type": "code",
   "execution_count": null,
   "metadata": {},
   "outputs": [],
   "source": []
  }
 ],
 "metadata": {
  "kernelspec": {
   "display_name": "Python 3",
   "language": "python",
   "name": "python3"
  },
  "language_info": {
   "codemirror_mode": {
    "name": "ipython",
    "version": 3
   },
   "file_extension": ".py",
   "mimetype": "text/x-python",
   "name": "python",
   "nbconvert_exporter": "python",
   "pygments_lexer": "ipython3",
   "version": "3.8.5"
  }
 },
 "nbformat": 4,
 "nbformat_minor": 4
}
