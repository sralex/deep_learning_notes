{
 "cells": [
  {
   "cell_type": "code",
   "execution_count": 1,
   "id": "fdb51cc7",
   "metadata": {},
   "outputs": [],
   "source": [
    "from glob import glob\n",
    "import numpy as np\n",
    "import json\n",
    "import pandas as pd\n",
    "from sklearn.model_selection import train_test_split"
   ]
  },
  {
   "cell_type": "code",
   "execution_count": 2,
   "id": "c55c9d8b",
   "metadata": {},
   "outputs": [],
   "source": [
    "dataset_images_path = \"face_dataset/images/\"\n",
    "output_file = \"face_dataset/train_test_images.csv\""
   ]
  },
  {
   "cell_type": "code",
   "execution_count": 3,
   "id": "41336d11",
   "metadata": {},
   "outputs": [],
   "source": [
    "def get_image_from_path(image_path):\n",
    "    import os\n",
    "    jpeg_path = os.path.join(image_path, \"*.jpeg\")\n",
    "    jpg_path = os.path.join(image_path, \"*.jpg\")\n",
    "    png_path = os.path.join(image_path, \"*.png\")\n",
    "    return glob(jpeg_path) + glob(jpg_path) + glob(png_path)"
   ]
  },
  {
   "cell_type": "code",
   "execution_count": 4,
   "id": "4109a617",
   "metadata": {},
   "outputs": [
    {
     "data": {
      "text/plain": [
       "30000"
      ]
     },
     "execution_count": 4,
     "metadata": {},
     "output_type": "execute_result"
    }
   ],
   "source": [
    "dataset = get_image_from_path(dataset_images_path)\n",
    "len(dataset)"
   ]
  },
  {
   "cell_type": "code",
   "execution_count": 5,
   "id": "611b978c",
   "metadata": {},
   "outputs": [],
   "source": [
    "train, test = train_test_split(pd.DataFrame(dataset,columns=[\"image_path\"]), test_size=0.2, random_state=12)\n"
   ]
  },
  {
   "cell_type": "code",
   "execution_count": 6,
   "id": "3d603f73",
   "metadata": {},
   "outputs": [],
   "source": [
    "train[\"train\"] = True\n",
    "train[\"test\"] = False\n",
    "test[\"train\"] = False\n",
    "test[\"test\"] = True"
   ]
  },
  {
   "cell_type": "code",
   "execution_count": 7,
   "id": "1315b7b9",
   "metadata": {},
   "outputs": [],
   "source": [
    "data_frame = pd.concat([train,test])"
   ]
  },
  {
   "cell_type": "code",
   "execution_count": 8,
   "id": "7d2e12c9-f0f8-449c-9578-8caddc6c20c5",
   "metadata": {},
   "outputs": [
    {
     "data": {
      "text/html": [
       "<div>\n",
       "<style scoped>\n",
       "    .dataframe tbody tr th:only-of-type {\n",
       "        vertical-align: middle;\n",
       "    }\n",
       "\n",
       "    .dataframe tbody tr th {\n",
       "        vertical-align: top;\n",
       "    }\n",
       "\n",
       "    .dataframe thead th {\n",
       "        text-align: right;\n",
       "    }\n",
       "</style>\n",
       "<table border=\"1\" class=\"dataframe\">\n",
       "  <thead>\n",
       "    <tr style=\"text-align: right;\">\n",
       "      <th></th>\n",
       "      <th>image_path</th>\n",
       "      <th>train</th>\n",
       "      <th>test</th>\n",
       "    </tr>\n",
       "  </thead>\n",
       "  <tbody>\n",
       "    <tr>\n",
       "      <th>25371</th>\n",
       "      <td>face_dataset/images/20712.jpg</td>\n",
       "      <td>True</td>\n",
       "      <td>False</td>\n",
       "    </tr>\n",
       "    <tr>\n",
       "      <th>11276</th>\n",
       "      <td>face_dataset/images/3247.jpg</td>\n",
       "      <td>True</td>\n",
       "      <td>False</td>\n",
       "    </tr>\n",
       "    <tr>\n",
       "      <th>15991</th>\n",
       "      <td>face_dataset/images/7615.jpg</td>\n",
       "      <td>True</td>\n",
       "      <td>False</td>\n",
       "    </tr>\n",
       "    <tr>\n",
       "      <th>7315</th>\n",
       "      <td>face_dataset/images/15950.jpg</td>\n",
       "      <td>True</td>\n",
       "      <td>False</td>\n",
       "    </tr>\n",
       "    <tr>\n",
       "      <th>9304</th>\n",
       "      <td>face_dataset/images/8391.jpg</td>\n",
       "      <td>True</td>\n",
       "      <td>False</td>\n",
       "    </tr>\n",
       "    <tr>\n",
       "      <th>...</th>\n",
       "      <td>...</td>\n",
       "      <td>...</td>\n",
       "      <td>...</td>\n",
       "    </tr>\n",
       "    <tr>\n",
       "      <th>21741</th>\n",
       "      <td>face_dataset/images/27331.jpg</td>\n",
       "      <td>False</td>\n",
       "      <td>True</td>\n",
       "    </tr>\n",
       "    <tr>\n",
       "      <th>16235</th>\n",
       "      <td>face_dataset/images/9575.jpg</td>\n",
       "      <td>False</td>\n",
       "      <td>True</td>\n",
       "    </tr>\n",
       "    <tr>\n",
       "      <th>25587</th>\n",
       "      <td>face_dataset/images/20759.jpg</td>\n",
       "      <td>False</td>\n",
       "      <td>True</td>\n",
       "    </tr>\n",
       "    <tr>\n",
       "      <th>6281</th>\n",
       "      <td>face_dataset/images/24752.jpg</td>\n",
       "      <td>False</td>\n",
       "      <td>True</td>\n",
       "    </tr>\n",
       "    <tr>\n",
       "      <th>29330</th>\n",
       "      <td>face_dataset/images/27865.jpg</td>\n",
       "      <td>False</td>\n",
       "      <td>True</td>\n",
       "    </tr>\n",
       "  </tbody>\n",
       "</table>\n",
       "<p>30000 rows × 3 columns</p>\n",
       "</div>"
      ],
      "text/plain": [
       "                          image_path  train   test\n",
       "25371  face_dataset/images/20712.jpg   True  False\n",
       "11276   face_dataset/images/3247.jpg   True  False\n",
       "15991   face_dataset/images/7615.jpg   True  False\n",
       "7315   face_dataset/images/15950.jpg   True  False\n",
       "9304    face_dataset/images/8391.jpg   True  False\n",
       "...                              ...    ...    ...\n",
       "21741  face_dataset/images/27331.jpg  False   True\n",
       "16235   face_dataset/images/9575.jpg  False   True\n",
       "25587  face_dataset/images/20759.jpg  False   True\n",
       "6281   face_dataset/images/24752.jpg  False   True\n",
       "29330  face_dataset/images/27865.jpg  False   True\n",
       "\n",
       "[30000 rows x 3 columns]"
      ]
     },
     "execution_count": 8,
     "metadata": {},
     "output_type": "execute_result"
    }
   ],
   "source": [
    "data_frame"
   ]
  },
  {
   "cell_type": "code",
   "execution_count": 9,
   "id": "56c39b66",
   "metadata": {},
   "outputs": [],
   "source": [
    "data_frame.to_csv(output_file,index=False)"
   ]
  },
  {
   "cell_type": "code",
   "execution_count": null,
   "id": "a97ae3b8",
   "metadata": {},
   "outputs": [],
   "source": []
  },
  {
   "cell_type": "code",
   "execution_count": null,
   "id": "3e3092f2-f279-453d-a673-86291a090afa",
   "metadata": {},
   "outputs": [],
   "source": []
  }
 ],
 "metadata": {
  "kernelspec": {
   "display_name": "Python 3 (ipykernel)",
   "language": "python",
   "name": "python3"
  },
  "language_info": {
   "codemirror_mode": {
    "name": "ipython",
    "version": 3
   },
   "file_extension": ".py",
   "mimetype": "text/x-python",
   "name": "python",
   "nbconvert_exporter": "python",
   "pygments_lexer": "ipython3",
   "version": "3.8.19"
  }
 },
 "nbformat": 4,
 "nbformat_minor": 5
}
